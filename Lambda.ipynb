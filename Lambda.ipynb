{
 "cells": [
  {
   "cell_type": "code",
   "execution_count": 1,
   "id": "6d1b5e83",
   "metadata": {},
   "outputs": [
    {
     "name": "stdout",
     "output_type": "stream",
     "text": [
      "Enter numbers separated by spaces: 10\n",
      "Original numbers: [10]\n",
      "Numbers after adding 25 using lambda: [35]\n"
     ]
    }
   ],
   "source": [
    "def add_25_to_numbers_using_lambda(numbers):\n",
    "    add_25 = lambda x: x + 25\n",
    "    result = []\n",
    "    for num in numbers:\n",
    "        result.append(add_25(num))\n",
    "    return result\n",
    "input_numbers = [int(x) for x in input(\"Enter numbers separated by spaces: \").split()]\n",
    "result_numbers = add_25_to_numbers_using_lambda(input_numbers)\n",
    "print(\"Original numbers:\", input_numbers)\n",
    "print(\"Numbers after adding 25 using lambda:\", result_numbers)\n"
   ]
  },
  {
   "cell_type": "code",
   "execution_count": null,
   "id": "7ceb8d1c",
   "metadata": {},
   "outputs": [],
   "source": []
  }
 ],
 "metadata": {
  "kernelspec": {
   "display_name": "Python 3 (ipykernel)",
   "language": "python",
   "name": "python3"
  },
  "language_info": {
   "codemirror_mode": {
    "name": "ipython",
    "version": 3
   },
   "file_extension": ".py",
   "mimetype": "text/x-python",
   "name": "python",
   "nbconvert_exporter": "python",
   "pygments_lexer": "ipython3",
   "version": "3.10.9"
  }
 },
 "nbformat": 4,
 "nbformat_minor": 5
}
